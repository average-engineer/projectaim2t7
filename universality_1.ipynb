{
 "cells": [
  {
   "cell_type": "code",
   "execution_count": null,
   "metadata": {},
   "outputs": [],
   "source": [
    "%matplotlib notebook"
   ]
  },
  {
   "cell_type": "markdown",
   "metadata": {},
   "source": [
    "## Imports"
   ]
  },
  {
   "cell_type": "code",
   "execution_count": null,
   "metadata": {},
   "outputs": [],
   "source": [
    "import numpy as np\n",
    "from matplotlib import pyplot as plt"
   ]
  },
  {
   "cell_type": "markdown",
   "metadata": {},
   "source": [
    "## Define activation functions (Sigmoid and/or Heaviside)"
   ]
  },
  {
   "cell_type": "code",
   "execution_count": null,
   "metadata": {},
   "outputs": [],
   "source": [
    "def sigmoid(x):\n",
    "    return 1.0 / (1.0 + np.exp(-x))\n",
    "\n",
    "def step(x):\n",
    "#     if x < 0.0:\n",
    "#         return 0.0\n",
    "#     else:\n",
    "#         return 1.0\n",
    "    \n",
    "    return np.heaviside(x,1)\n"
   ]
  },
  {
   "cell_type": "markdown",
   "metadata": {},
   "source": [
    "## Define a function to create a simple neural network\n",
    "\n",
    "Neural network with one hidden layer\n",
    "One input neuron - two neurons in the hidden layer with bias - one output neuron\n",
    "\n",
    "Funtion for a simple neural network :\n",
    "\n",
    "$a_1 = sigmoid(x W_1 + b_1)$\n",
    "\n",
    "$a_2 = a_1 W_2$\n",
    "\n",
    "Function Output : $a_2,a_1$\n"
   ]
  },
  {
   "cell_type": "code",
   "execution_count": null,
   "metadata": {},
   "outputs": [],
   "source": [
    "def neural_network(x, W1, b1, W2, activation_f):\n",
    "    a1 = activation_f(np.dot(x, W1) + b1)\n",
    "    a2 = np.dot(a1, W2)\n",
    "    return a2, a1"
   ]
  },
  {
   "cell_type": "markdown",
   "metadata": {},
   "source": [
    "## Define a data \n",
    "\n",
    "Create an array between -3 and 3 with 200 evenly spaced numbers"
   ]
  },
  {
   "cell_type": "code",
   "execution_count": null,
   "metadata": {},
   "outputs": [],
   "source": [
    "x = np.linspace(-3.0, 3.0, 200)\n",
    "x=x[:, np.newaxis]"
   ]
  },
  {
   "cell_type": "markdown",
   "metadata": {},
   "source": [
    "## Weight and bias initialization"
   ]
  },
  {
   "cell_type": "code",
   "execution_count": null,
   "metadata": {},
   "outputs": [],
   "source": [
    "W1 = np.asarray([[1.0, -1.0]])\n",
    "b1 = np.asarray([[0.0, 0.0]])\n",
    "W2 = np.asarray([[1.0], [-1.0]])"
   ]
  },
  {
   "cell_type": "markdown",
   "metadata": {},
   "source": [
    "## Run neural network"
   ]
  },
  {
   "cell_type": "code",
   "execution_count": null,
   "metadata": {},
   "outputs": [],
   "source": [
    "y, a1 = neural_network(x, W1, b1, W2,sigmoid)"
   ]
  },
  {
   "cell_type": "markdown",
   "metadata": {},
   "source": [
    "## Plot output of first hidden neuron"
   ]
  },
  {
   "cell_type": "code",
   "execution_count": null,
   "metadata": {},
   "outputs": [],
   "source": [
    "fig = plt.figure(figsize=(7, 4))\n",
    "plt.plot(x, a1[:, 0])\n",
    "plt.xlabel('x')\n",
    "plt.ylabel('Activation Hidden Neuron 0')"
   ]
  },
  {
   "cell_type": "markdown",
   "metadata": {},
   "source": [
    "## Large incoming weights cause the sigmoid function to resemble a step function\n"
   ]
  },
  {
   "cell_type": "code",
   "execution_count": null,
   "metadata": {},
   "outputs": [],
   "source": [
    "b1a = np.copy(b1)\n",
    "W1a = np.copy(W1)\n",
    "W1a[:, 0] = 1000.0\n",
    "b1a[:, 0] = -400.0\n",
    "y, a1 = neural_network(x, W1a, b1a, W2, sigmoid)\n",
    "fig = plt.figure(figsize=(7, 4))\n",
    "plt.plot(x, a1[:, 0])\n",
    "plt.xlabel('x')\n",
    "plt.ylabel('Activation Hidden Neuron 0')"
   ]
  },
  {
   "cell_type": "markdown",
   "metadata": {},
   "source": [
    "## Step-like functions can approximate any function\n"
   ]
  },
  {
   "cell_type": "code",
   "execution_count": null,
   "metadata": {},
   "outputs": [],
   "source": [
    "W1b = np.asarray([[1000.0, 1000.0]])\n",
    "b1b = np.asarray([[600.0, 800.0]])\n",
    "W2b = np.asarray([[0.6], [1.2]])\n",
    "y, a1 = neural_network(x, W1b, b1b, W2b,sigmoid)\n",
    "fig = plt.figure(figsize=(7, 4))\n",
    "plt.plot(x, y)\n",
    "plt.xlabel('x')\n",
    "plt.ylabel('Neural network output')"
   ]
  },
  {
   "cell_type": "markdown",
   "metadata": {},
   "source": [
    "## Approximate functions\n",
    "\n",
    "Approximate a the function \n",
    "\n",
    "$f(x)=0.8$ for $-0.2 \\leq x \\leq 0.4$ else $f(x)= 0$ "
   ]
  },
  {
   "cell_type": "code",
   "execution_count": null,
   "metadata": {},
   "outputs": [],
   "source": [
    "W1c = np.asarray([[100.0, 100.0]])\n",
    "b1c = np.asarray([[-40.0, 20.0]])\n",
    "W2c = np.asarray([[-0.8], [0.8]])\n",
    "y_sig, a1_sig = neural_network(x, W1c, b1c, W2c,sigmoid)\n",
    "y_step, a1_step = neural_network(x, W1c, b1c, W2c,step)\n",
    "fig = plt.figure(figsize=(7, 4))\n",
    "plt.plot(x, y_sig)\n",
    "plt.plot(x, y_step)\n",
    "plt.xlabel('x')\n",
    "plt.ylabel('Neural network output')"
   ]
  },
  {
   "cell_type": "markdown",
   "metadata": {},
   "source": [
    "## Playground\n",
    "\n",
    "Add neurons to hidden layer / play around with the numbers"
   ]
  },
  {
   "cell_type": "code",
   "execution_count": null,
   "metadata": {},
   "outputs": [],
   "source": [
    "x_1 = np.linspace(-3.14, 3.14, 200)\n",
    "x_1=x_1[:, np.newaxis]\n",
    "\n",
    "W1d = np.asarray([[1.0,   1.0, 1.0]])\n",
    "b1d = np.asarray([[3.1,   0, -3.1]])\n",
    "W2d = np.asarray([[-1],[2],[-1]])\n",
    "W1e = np.asarray([[1.0,   1.0, 1.0, 1.0,   1.0, 1.0, 1.0]])\n",
    "b1e = np.asarray([[3.,  2., 1., 0, -1., -2., -3.]])\n",
    "W2e = np.asarray([[-0.5],[-0.5],[0.5],[1],[0.5],[-0.5],[-0.5]])\n",
    "\n",
    "y_d, a1_d = neural_network(x_1, W1d, b1d, W2d, step)\n",
    "y_e, a1_e = neural_network(x_1, W1e, b1e, W2e, step)\n",
    "fig = plt.figure(figsize=(7, 4))\n",
    "plt.plot(x_1, y_d)\n",
    "plt.plot(x_1, y_e)\n",
    "plt.plot(x_1, np.sin(x_1))\n",
    "plt.xlabel('x')\n",
    "plt.ylabel('Neural network output')\n"
   ]
  },
  {
   "cell_type": "code",
   "execution_count": null,
   "metadata": {},
   "outputs": [],
   "source": []
  }
 ],
 "metadata": {
  "kernelspec": {
   "display_name": "Python 3 (ipykernel)",
   "language": "python",
   "name": "python3"
  },
  "language_info": {
   "codemirror_mode": {
    "name": "ipython",
    "version": 3
   },
   "file_extension": ".py",
   "mimetype": "text/x-python",
   "name": "python",
   "nbconvert_exporter": "python",
   "pygments_lexer": "ipython3",
   "version": "3.8.12"
  }
 },
 "nbformat": 4,
 "nbformat_minor": 2
}
